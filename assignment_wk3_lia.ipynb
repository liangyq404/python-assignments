{
 "cells": [
  {
   "cell_type": "markdown",
   "metadata": {},
   "source": [
    "### Assignment: Poem (3 weeks)"
   ]
  },
  {
   "cell_type": "code",
   "execution_count": 3,
   "metadata": {},
   "outputs": [
    {
     "output_type": "stream",
     "name": "stdout",
     "text": [
      "NOT MY RESPONSIBILITY\n\n\nby Billie Eilish\n\n\nDo you know me?\nReally know me?\nYou have opinions\nAbout my opinions\nAbout my music\nAbout my clothes\nAbout my body\nSome people hate what you wear\nSome people praise it\nSome people use it to shame others\nSome people use it to shame me\n\n\nBut I feel you watching\nAlways\nAnd nothing I do goes unseen\nSo while I feel your stares\nyour disapproval\nor your sigh of relief\nif I lived by them\nI’d never be able to move\n\n\nwould you like me to be smaller?\nweaker?\nsofter?\ntaller?\nwould you like me to be quiet?\ndo my shoulders provoke you?\ndoes my chest?\nmy hips?\nthe body I was born with\nis it not what you wanted?\n\n\nif I wear what is comfortable\nI am not a woman\nif I shed the layers\nI’m a slut\nthough you’ve never seen my body\nyou still judge it\nand judge me for it\nwhy?\n\n\nwe make assumptions about people\nbased on their size\nwe decide who they are\nwe decide what they’re worth\nif I wear more\nif I wear less\nwho decides what that makes me?\nWhat that means?\nIs my value based only on your perception?\nOr is your opinion of me\nNot my responsibility\n"
     ]
    }
   ],
   "source": [
    "title = \"Not my responsibility\"\n",
    "author = \"Billie Eilish\"\n",
    "key1 = \"opinions\"\n",
    "key2 = \"body\"\n",
    "\n",
    "my_dic = {'who': ['I', 'you', 'we'], 'do': ['hate', 'praise', 'shame', 'watch', 'decide', 'judge']}\n",
    "body_parts = ['head','eyes', 'shoulders', 'chest', 'stomach', 'legs', 'feet']\n",
    "\n",
    "\n",
    "print(title.upper())\n",
    "print('\\n')\n",
    "print(f'by {author}')\n",
    "print('\\n')\n",
    "print('Do you know me?')\n",
    "print('Really know me?')\n",
    "print(f'You have {key1}')\n",
    "print(f'About my {key1}')\n",
    "print('About my music')\n",
    "print('About my clothes')\n",
    "print(f'About my {key2}')\n",
    "\n",
    "print(f'Some people {my_dic[\"do\"][0]} what {my_dic[\"who\"][1]} wear')\n",
    "print(f'Some people {my_dic[\"do\"][1]} it')\n",
    "print(f'Some people use it to {my_dic[\"do\"][2]} others')\n",
    "print(f'Some people use it to {my_dic[\"do\"][2]} me')\n",
    "\n",
    "print('\\n')\n",
    "print(f'But {my_dic[\"who\"][0]} feel {my_dic[\"who\"][1]} {my_dic[\"do\"][3]}ing' )\n",
    "print('Always')\n",
    "print('And nothing I do goes unseen')\n",
    "print(f'So while I feel your stares')\n",
    "print('your disapproval')\n",
    "print('or your sigh of relief')\n",
    "print('if I lived by them')\n",
    "print('I’d never be able to move')\n",
    "print('\\n')\n",
    "\n",
    "print('would you like me to be smaller?')\n",
    "print('Weaker?')\n",
    "print('Softer?')\n",
    "print('Taller?')\n",
    "print('Would you like me to be quiet?')\n",
    "print('do my shoulders provoke you?')\n",
    "print('does my chest?')\n",
    "print('my hips?')\n",
    "print('the body I was born with')\n",
    "print('is it not what you wanted?')\n",
    "print('\\n')\n",
    "\n",
    "print('if I wear what is comfortable')\n",
    "print('I am not a woman')\n",
    "print('if I shed the layers')\n",
    "print('I’m a slut')\n",
    "print('though you’ve never seen my body')\n",
    "print('you still judge it')\n",
    "print('and judge me for it')\n",
    "print('why?')\n",
    "print('\\n')\n",
    "\n",
    "print('we make assumptions about people')\n",
    "print('based on their size')\n",
    "print('we decide who they are')\n",
    "print('we decide what they’re worth')\n",
    "print('if I wear more')\n",
    "print('if I wear less')\n",
    "print('who decides what that makes me?')\n",
    "print('What that means?')\n",
    "print('Is my value based only on your perception?')\n",
    "print('Or is your opinion of me')\n",
    "print(f'{title}')\n"
   ]
  }
 ],
 "metadata": {
  "kernelspec": {
   "name": "python3",
   "display_name": "Python 3.8.2 64-bit"
  },
  "language_info": {
   "codemirror_mode": {
    "name": "ipython",
    "version": 3
   },
   "file_extension": ".py",
   "mimetype": "text/x-python",
   "name": "python",
   "nbconvert_exporter": "python",
   "pygments_lexer": "ipython3",
   "version": "3.8.2"
  },
  "interpreter": {
   "hash": "31f2aee4e71d21fbe5cf8b01ff0e069b9275f58929596ceb00d14d90e3e16cd6"
  }
 },
 "nbformat": 4,
 "nbformat_minor": 2
}